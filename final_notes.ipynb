{
 "cells": [
  {
   "cell_type": "markdown",
   "id": "e2253d4c",
   "metadata": {},
   "source": [
    "#### How to view & run this notebook:\n",
    "1. View it on github at https://github.com/jschluger/rishaan-chess/blob/main/final_notes.ipynb\n",
    "2. To run the notebook, install Anaconda here, https://docs.anaconda.com/anaconda/install/index.html, then use that to run jupyter notebook.\n",
    "----"
   ]
  },
  {
   "cell_type": "markdown",
   "id": "8c92e1a4",
   "metadata": {},
   "source": [
    "# Part One: Chess Game\n",
    "\n",
    "To implement our virtual chess game, we split the game into several classes to represent the different parts of the game. The major different parts of the game we had to represent were:\n",
    "1. The underlying logic of the game of chess, and data about the current state of the game as its played.\n",
    "2. The front end display which gives the user a visual representation of logical game represented in part 1. \n",
    "\n",
    "To represent part 1, we wrote the chess.ChessGame class (in chess.py); this stores the board state in a 2D-array of chess.LogPiece instances (or None). \n",
    "\n",
    "To acomplish part 2, we wrote the play_chess_graphics.py script. This uses an instance of chess.ChessGame to manage the chess game, while also using pygame directly, and instances of our play_chess_graphics.Piece class to display the game visually. We wrote a main() function to setup the board and start the game, and actually playing the game happens in play_turn()\n",
    "\n",
    "Finally, we later built the Wireless class to control all the network connection code and enable us to develop the remote two player version of the game. "
   ]
  },
  {
   "cell_type": "markdown",
   "id": "7e411cd9",
   "metadata": {},
   "source": [
    "# Part Two: Coding tools\n",
    "\n",
    "### Classes\n",
    "We use classes to package specific parts of a program into one neat and tidy place to easily use them later.\n",
    "\n",
    "E.g.:"
   ]
  },
  {
   "cell_type": "code",
   "execution_count": 1,
   "id": "dafd01cc",
   "metadata": {},
   "outputs": [
    {
     "name": "stdout",
     "output_type": "stream",
     "text": [
      "True\n"
     ]
    }
   ],
   "source": [
    "class MyClass():\n",
    "    \n",
    "    # All classes need an __init__ to setup the class\n",
    "    def __init__(self, name):\n",
    "        super().__init__()\n",
    "        \n",
    "        # self.name is an instance variable\n",
    "        self.name = name\n",
    "        \n",
    "    # This is a regular class method; you can call the method from absany instance of the class\n",
    "    def get_name(self):\n",
    "        return self.name\n",
    "    \n",
    "myInstance = MyClass('Rishaan')\n",
    "# myInstance is an instance of MyClass because we used parenthies to construct an instance of MyClass (with name=Rishaan)\n",
    "\n",
    "# We can confirm with the isinstance method:\n",
    "print(isinstance(myInstance, MyClass))\n",
    "        "
   ]
  },
  {
   "cell_type": "markdown",
   "id": "e3a27d03",
   "metadata": {},
   "source": [
    "###  Copying data\n",
    "\n",
    "We saw how it is possible to modify the contents of one variable from another when there are multiple refrences to the same data in a program:"
   ]
  },
  {
   "cell_type": "code",
   "execution_count": 11,
   "id": "4338c3f3",
   "metadata": {},
   "outputs": [
    {
     "name": "stdout",
     "output_type": "stream",
     "text": [
      "Simple example\n",
      "------------------------\n",
      "L =  [0, 1, 2, 3, 4, 5, 6, 7, 8, 9]\n",
      "L2 =  [0, 1, 2, 3, 4, 5, 6, 7, 8, 9]\n",
      "\n",
      "modifying L2...\n",
      "L =  ['changed in L2', 1, 2, 3, 4, 5, 6, 7, 8, 9]\n",
      "L2 =  ['changed in L2', 1, 2, 3, 4, 5, 6, 7, 8, 9]\n",
      "\n",
      "More complicated example\n",
      "------------------------\n",
      "A =  ['A', 'B', 'C']\n",
      "X =  ['X', 'Y', 'Z']\n",
      "M =  [['A', 'B', 'C'], ['X', 'Y', 'Z']]\n",
      "\n",
      "modifying A\n",
      "A =  ['changed in A', 'B', 'C']\n",
      "X =  ['X', 'Y', 'Z']\n",
      "M =  [['changed in A', 'B', 'C'], ['X', 'Y', 'Z']]\n",
      "\n",
      "modifying M\n",
      "A =  ['changed in A', 'B', 'C']\n",
      "X =  ['changed in M', 'Y', 'Z']\n",
      "M =  [['changed in A', 'B', 'C'], ['changed in M', 'Y', 'Z']]\n"
     ]
    }
   ],
   "source": [
    "print('Simple example\\n------------------------')\n",
    "L = [0,1,2,3,4,5,6,7,8,9]\n",
    "L2 = L\n",
    "print('L = ',L)\n",
    "print('L2 = ',L2)\n",
    "\n",
    "print('\\nmodifying L2...')\n",
    "L2[0] = 'changed in L2'\n",
    "print('L = ',L)\n",
    "print('L2 = ',L2)\n",
    "\n",
    "print('\\nMore complicated example\\n------------------------')\n",
    "A = ['A','B','C']\n",
    "X = ['X','Y','Z']\n",
    "M = [A,X]\n",
    "print('A = ',A)\n",
    "print('X = ',X)\n",
    "print('M = ',M)\n",
    "\n",
    "print('\\nmodifying A')\n",
    "A[0] = 'changed in A'\n",
    "\n",
    "print('A = ',A)\n",
    "print('X = ',X)\n",
    "print('M = ',M)\n",
    "\n",
    "print('\\nmodifying M')\n",
    "M[1][0] = 'changed in M'\n",
    "\n",
    "print('A = ',A)\n",
    "print('X = ',X)\n",
    "print('M = ',M)\n"
   ]
  },
  {
   "cell_type": "markdown",
   "id": "c288d39e",
   "metadata": {},
   "source": [
    "So, when we don't want this behavior we can use copy and deepcopy to get seperate copies of the same data."
   ]
  },
  {
   "cell_type": "code",
   "execution_count": 15,
   "id": "048710c7",
   "metadata": {},
   "outputs": [
    {
     "name": "stdout",
     "output_type": "stream",
     "text": [
      "Simple example with copy\n",
      "------------------------------\n",
      "L =  [0, 1, 2, 3, 4, 5, 6, 7, 8, 9]\n",
      "L2 =  [0, 1, 2, 3, 4, 5, 6, 7, 8, 9]\n",
      "\n",
      "modifying L2...\n",
      "L =  [0, 1, 2, 3, 4, 5, 6, 7, 8, 9]\n",
      "L2 =  ['changed in L2', 1, 2, 3, 4, 5, 6, 7, 8, 9]\n",
      "\n",
      "More complicated example with copy (note how it doesn't work)\n",
      "-----------------------------\n",
      "A =  ['A', 'B', 'C']\n",
      "X =  ['X', 'Y', 'Z']\n",
      "M =  [['A', 'B', 'C'], ['X', 'Y', 'Z']]\n",
      "\n",
      "modifying A\n",
      "A =  ['changed in A', 'B', 'C']\n",
      "X =  ['X', 'Y', 'Z']\n",
      "M =  [['changed in A', 'B', 'C'], ['X', 'Y', 'Z']]\n",
      "\n",
      "modifying M\n",
      "A =  ['changed in A', 'B', 'C']\n",
      "X =  ['changed in M', 'Y', 'Z']\n",
      "M =  [['changed in A', 'B', 'C'], ['changed in M', 'Y', 'Z']]\n",
      "\n",
      "More complicated example with deepcopy\n",
      "--------------------------------\n",
      "A =  ['A', 'B', 'C']\n",
      "X =  ['X', 'Y', 'Z']\n",
      "M =  [['A', 'B', 'C'], ['X', 'Y', 'Z']]\n",
      "\n",
      "modifying A\n",
      "A =  ['changed in A', 'B', 'C']\n",
      "X =  ['X', 'Y', 'Z']\n",
      "M =  [['A', 'B', 'C'], ['X', 'Y', 'Z']]\n",
      "\n",
      "modifying M\n",
      "A =  ['changed in A', 'B', 'C']\n",
      "X =  ['X', 'Y', 'Z']\n",
      "M =  [['A', 'B', 'C'], ['changed in M', 'Y', 'Z']]\n"
     ]
    }
   ],
   "source": [
    "from copy import copy, deepcopy\n",
    "\n",
    "print('Simple example with copy\\n------------------------------')\n",
    "L = [0,1,2,3,4,5,6,7,8,9]\n",
    "L2 = copy(L)\n",
    "print('L = ',L)\n",
    "print('L2 = ',L2)\n",
    "\n",
    "print('\\nmodifying L2...')\n",
    "L2[0] = 'changed in L2'\n",
    "print('L = ',L)\n",
    "print('L2 = ',L2)\n",
    "\n",
    "print('\\nMore complicated example with copy (note how it doesn\\'t work)\\n-----------------------------')\n",
    "A = ['A','B','C']\n",
    "X = ['X','Y','Z']\n",
    "M = copy([A,X])\n",
    "print('A = ',A)\n",
    "print('X = ',X)\n",
    "print('M = ',M)\n",
    "\n",
    "print('\\nmodifying A')\n",
    "A[0] = 'changed in A'\n",
    "\n",
    "print('A = ',A)\n",
    "print('X = ',X)\n",
    "print('M = ',M)\n",
    "\n",
    "print('\\nmodifying M')\n",
    "M[1][0] = 'changed in M'\n",
    "\n",
    "print('A = ',A)\n",
    "print('X = ',X)\n",
    "print('M = ',M)\n",
    "\n",
    "print('\\nMore complicated example with deepcopy\\n--------------------------------')\n",
    "A = ['A','B','C']\n",
    "X = ['X','Y','Z']\n",
    "M = deepcopy([A,X])\n",
    "print('A = ',A)\n",
    "print('X = ',X)\n",
    "print('M = ',M)\n",
    "\n",
    "print('\\nmodifying A')\n",
    "A[0] = 'changed in A'\n",
    "\n",
    "print('A = ',A)\n",
    "print('X = ',X)\n",
    "print('M = ',M)\n",
    "\n",
    "print('\\nmodifying M')\n",
    "M[1][0] = 'changed in M'\n",
    "\n",
    "print('A = ',A)\n",
    "print('X = ',X)\n",
    "print('M = ',M)"
   ]
  },
  {
   "cell_type": "markdown",
   "id": "3e05f528",
   "metadata": {},
   "source": [
    "### Working with data in lists\n",
    "We learned about fast ways to work with data in lists:\n",
    "\n",
    "#### Filter: Keep/remove items from a list based on a function of each item\n",
    "e.g.:"
   ]
  },
  {
   "cell_type": "code",
   "execution_count": 19,
   "id": "d989936d",
   "metadata": {},
   "outputs": [
    {
     "name": "stdout",
     "output_type": "stream",
     "text": [
      "0\n",
      "2\n",
      "4\n",
      "6\n",
      "8\n",
      "10\n",
      "12\n",
      "14\n",
      "16\n",
      "18\n",
      "[0, 2, 4, 6, 8, 10, 12, 14, 16, 18]\n"
     ]
    }
   ],
   "source": [
    "N = [0,1,2,3,4,5,6,7,8,9,10,11,12,13,14,15,16,17,18,19]\n",
    "\n",
    "# Iterate through only the even numbers in N:\n",
    "for x in filter(lambda x: x % 2 == 0, N):\n",
    "    print(x)\n",
    "    \n",
    "# Or, to get these numbers as a list:\n",
    "even_N = list(filter(lambda x: x % 2 == 0, N))\n",
    "print(even_N)"
   ]
  },
  {
   "cell_type": "markdown",
   "id": "0a9ee70c",
   "metadata": {},
   "source": [
    "#### Map: transform one list into another list by using a fuction to transform each element:\n",
    "e.g.:"
   ]
  },
  {
   "cell_type": "code",
   "execution_count": 23,
   "id": "e8364040",
   "metadata": {},
   "outputs": [
    {
     "name": "stdout",
     "output_type": "stream",
     "text": [
      "[0, -1, 2, -3, 4, -5, 6, -7, 8, -9, 10, -11, 12, -13, 14, -15, 16, -17, 18, -19]\n"
     ]
    }
   ],
   "source": [
    "M = [0,1,2,3,4,5,6,7,8,9,10,11,12,13,14,15,16,17,18,19]\n",
    "\n",
    "def foo(x):\n",
    "    if x % 2 == 0:\n",
    "        return x\n",
    "    else:\n",
    "        return -1 * x\n",
    "    \n",
    "# Or, to get these numbers as a list:\n",
    "new_M = list(map(foo, M))\n",
    "print(new_M)"
   ]
  }
 ],
 "metadata": {
  "kernelspec": {
   "display_name": "Python 3",
   "language": "python",
   "name": "python3"
  },
  "language_info": {
   "codemirror_mode": {
    "name": "ipython",
    "version": 3
   },
   "file_extension": ".py",
   "mimetype": "text/x-python",
   "name": "python",
   "nbconvert_exporter": "python",
   "pygments_lexer": "ipython3",
   "version": "3.7.4"
  }
 },
 "nbformat": 4,
 "nbformat_minor": 5
}
